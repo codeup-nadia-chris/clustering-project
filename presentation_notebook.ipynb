{
 "cells": [
  {
   "cell_type": "markdown",
   "id": "5128316b-4dfe-4f22-88cf-1de84a2cd537",
   "metadata": {},
   "source": []
  },
  {
   "cell_type": "code",
   "execution_count": 1,
   "id": "8fc38822-4b10-4f46-9677-d76da3074337",
   "metadata": {},
   "outputs": [],
   "source": [
    "import numpy as np\n",
    "import pandas as pd\n",
    "import seaborn as sns\n",
    "import matplotlib.pyplot as plt\n",
    "\n",
    "# setting random seed to 7\n",
    "np.random.seed(7)\n",
    "\n",
    "# turning off red warnings\n",
    "import warnings\n",
    "warnings.filterwarnings(\"ignore\")\n",
    "\n",
    "# module for fixing imported modules\n",
    "from importlib import reload\n",
    "\n",
    "#import project modules\n",
    "import src.wrangle as wr\n",
    "import src.evaluate as ev\n",
    "\n",
    "pd.options.display.float_format = '{:,.3f}'.format"
   ]
  },
  {
   "cell_type": "code",
   "execution_count": null,
   "id": "3eb0ee8d-8530-4d1a-82e3-3edec6183eb3",
   "metadata": {},
   "outputs": [],
   "source": []
  }
 ],
 "metadata": {
  "kernelspec": {
   "display_name": "Python 3 (ipykernel)",
   "language": "python",
   "name": "python3"
  },
  "language_info": {
   "codemirror_mode": {
    "name": "ipython",
    "version": 3
   },
   "file_extension": ".py",
   "mimetype": "text/x-python",
   "name": "python",
   "nbconvert_exporter": "python",
   "pygments_lexer": "ipython3",
   "version": "3.9.13"
  }
 },
 "nbformat": 4,
 "nbformat_minor": 5
}
